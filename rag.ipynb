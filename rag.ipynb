{
 "cells": [
  {
   "cell_type": "markdown",
   "metadata": {},
   "source": [
    "# RAG"
   ]
  },
  {
   "cell_type": "code",
   "execution_count": 1,
   "metadata": {},
   "outputs": [],
   "source": [
    "from helper import *\n",
    "from llama_cpp import Llama\n",
    "from huggingface_hub import hf_hub_download\n",
    "from qdrant_client import QdrantClient\n",
    "from qdrant_client.models import Distance, VectorParams, PointStruct\n",
    "import uuid\n",
    "\n",
    "client = QdrantClient(path=\"embeddings\")\n",
    "downloaded_embedding_model_path = hf_hub_download(repo_id=\"mixedbread-ai/mxbai-embed-large-v1\", filename=\"gguf/mxbai-embed-large-v1-f16.gguf\")\n",
    "llm_embedding = Llama(model_path=downloaded_embedding_model_path, n_gpu_layers=-1, embedding=True, verbose=False)\n",
    "\n",
    "downloaded_model_path = hf_hub_download(repo_id=\"bartowski/Llama-3.2-3B-Instruct-GGUF\", filename=\"Llama-3.2-3B-Instruct-Q6_K_L.gguf\")\n",
    "llm = Llama(model_path=downloaded_model_path, n_ctx=16384, n_gpu_layers=-1, verbose=False)"
   ]
  },
  {
   "cell_type": "markdown",
   "metadata": {},
   "source": [
    "## Create Embeddings"
   ]
  },
  {
   "cell_type": "code",
   "execution_count": 2,
   "metadata": {},
   "outputs": [],
   "source": [
    "prompt = f\"\"\"Generate five different Google search queries to find information on the top academic AI conferences in 2025.\n",
    "            These queries should be tailored to discover high-impact conferences covering fields like machine learning, natural language processing,\n",
    "            computer vision, and other areas within AI.\"\"\"\n",
    "queries = llm_generate_search_queries(llm, prompt)\n",
    "urls = list({url['url'] for query in queries for url in get_top_urls_for_google_search_query(query)})\n",
    "markdowns = scrape_and_convert_to_markdown(urls)"
   ]
  },
  {
   "cell_type": "code",
   "execution_count": 3,
   "metadata": {},
   "outputs": [
    {
     "name": "stdout",
     "output_type": "stream",
     "text": [
      "1176\n"
     ]
    }
   ],
   "source": [
    "from langchain_text_splitters import MarkdownHeaderTextSplitter, RecursiveCharacterTextSplitter\n",
    "from langchain_text_splitters import RecursiveCharacterTextSplitter\n",
    "\n",
    "headers_to_split_on = [\n",
    "    (\"#\", \"Header 1\"),\n",
    "    (\"##\", \"Header 2\"),\n",
    "]\n",
    "markdown_splitter = MarkdownHeaderTextSplitter(\n",
    "    headers_to_split_on=headers_to_split_on, strip_headers=False\n",
    ")\n",
    "chunk_size = 500\n",
    "chunk_overlap = 50\n",
    "text_splitter = RecursiveCharacterTextSplitter(\n",
    "    chunk_size=chunk_size, chunk_overlap=chunk_overlap\n",
    ")\n",
    "documents = []\n",
    "for markdown_document in markdowns:\n",
    "    md_header_splits = markdown_splitter.split_text(markdown_document)\n",
    "    documents .extend(text_splitter.split_documents(md_header_splits))\n",
    "\n",
    "print(len(documents))  "
   ]
  },
  {
   "cell_type": "code",
   "execution_count": null,
   "metadata": {},
   "outputs": [],
   "source": [
    "batch_size = 100\n",
    "documents_embeddings = []\n",
    "for idx in range(0, len(documents), batch_size):\n",
    "    document_batch = documents[idx:idx+chunk_size]\n",
    "    embeddings = llm_embedding.create_embedding([item.page_content for item in document_batch])    \n",
    "    documents_embeddings.extend([(document, embeddings['embedding']) for document, embeddings in zip(document_batch, embeddings['data'])])"
   ]
  },
  {
   "cell_type": "markdown",
   "metadata": {},
   "source": [
    "## Store Embeddings into DB"
   ]
  },
  {
   "cell_type": "code",
   "execution_count": 11,
   "metadata": {},
   "outputs": [
    {
     "data": {
      "text/plain": [
       "True"
      ]
     },
     "execution_count": 11,
     "metadata": {},
     "output_type": "execute_result"
    }
   ],
   "source": [
    "client.create_collection(\n",
    "    collection_name=\"conferences\",\n",
    "    vectors_config=VectorParams(size=llm_embedding.metadata['bert.embedding_length'], distance=Distance.COSINE),\n",
    ")"
   ]
  },
  {
   "cell_type": "code",
   "execution_count": 12,
   "metadata": {},
   "outputs": [],
   "source": [
    "points = [PointStruct(id = str(uuid.uuid4()), vector = embeddings, payload = {\"text\": doc.page_content}) for doc, embeddings in documents_embeddings]\n",
    "operation_info = client.upsert(collection_name=\"conferences\", wait=True, points=points)"
   ]
  },
  {
   "cell_type": "markdown",
   "metadata": {},
   "source": [
    "## Query"
   ]
  },
  {
   "cell_type": "code",
   "execution_count": null,
   "metadata": {},
   "outputs": [],
   "source": [
    "def llamacpp_with_rag(llm: Llama, llm_embedding: Llama, client: QdrantClient, prompt: str):\n",
    "    query_vector = llm_embedding.create_embedding(prompt)['data'][0]['embedding']\n",
    "    search_result = client.search(\n",
    "      collection_name=\"conferences\",\n",
    "      query_vector=query_vector,\n",
    "      limit=20\n",
    "    )\n",
    "    prompt = f\"\"\"You are an AI assistant. Based on the context below, answer the following question.\n",
    "                Question: {prompt}\\n\n",
    "                {\"\\n\\n\".join([row.payload['text'] for row in search_result])}\\n\\n\"\"\"\n",
    "    output = llamacpp_with_character_level_parser(llm, prompt, None)\n",
    "    return output"
   ]
  },
  {
   "cell_type": "code",
   "execution_count": 5,
   "metadata": {},
   "outputs": [
    {
     "data": {
      "text/plain": [
       "'+ **Date:** To be announced\\n+ **Location:** TBD\\n+ **Website:** [WiML](https://www.wiml.org/)  \\n+ **Date:** To be announced\\n+ **Location:** TBD\\n+ **Website:** [WiML](https://www.wiml.org/)  \\n+ **Date:** To be announced\\n+ **Location:** TBD\\n+ **Website:** [WiML](https://www.wiml.org/)  \\nConclusion\\n----------  \\nAttending these top AI conferences in 2025 will enhance your knowledge and expand your professional network. Make sure to check the official websites for the latest updates on dates and locations. Whether you are looking to dive deep into research or explore practical applications, there is a conference for everyone in the AI community.  \\n### Related answers\\n\\n+ **Date:** To be announced\\n+ **Location:** TBD\\n+ **Website:** [WiML](https://www.wiml.org/)  \\n+ **Date:** To be announced\\n+ **Location:** TBD\\n+ **Website:** [WiML](https://www.wiml.org/)  \\n+ **Date:** To be announced\\n+ **Location:** TBD\\n+ **Website:** [WiML](https://www.wiml.org/)  \\nConclusion\\n----------  \\nAttending these top AI conferences in 2025 will enhance your knowledge and expand your professional network. Make sure to check the official websites for the latest updates on dates and locations. Whether you are looking to dive deep into research or explore practical applications, there is a conference for everyone in the AI community.  \\n### Related answers\\n\\n+ **Date:** To be announced\\n+ **Location:** TBD\\n+ **Website:** [WiML](https://www.wiml.org/)  \\n+ **Date:** To be announced\\n+ **Location:** TBD\\n+ **Website:** [WiML](https://www.wiml.org/)  \\n+ **Date:** To be announced\\n+ **Location:** TBD\\n+ **Website:** [WiML](https://www.wiml.org/)  \\nConclusion\\n----------  \\nAttending these top AI conferences in 2025 will enhance your knowledge and expand your professional network. Make sure to check the official websites for the latest updates on dates and locations. Whether you are looking to dive deep into research or explore practical applications, there is a conference for everyone in the AI community.  \\n### Related answers\\n\\n+ **Date:** To be announced\\n+ **Location:** TBD\\n+ **Website:** [WiML](https://www.wiml.org/)  \\n+ **Date:** To be announced\\n+ **Location:** TBD\\n+ **Website:** [WiML](https://www.wiml.org/)  \\n+ **Date:** To be announced\\n+ **Location:** TBD\\n+ **Website:** [WiML](https://www.wiml.org/)  \\nConclusion\\n----------  \\nAttending these top AI conferences in 2025 will enhance your knowledge and expand your professional network. Make sure to check the official websites for the latest updates on dates and locations. Whether you are looking to dive deep into research or explore practical applications, there is a conference for everyone in the AI community.  \\n### Related answers\\n\\n+ **Date:** To be announced\\n+ **Location:** TBD\\n+ **Website:** [WiML](https://www.wiml.org/)  \\n+ **Date:** To be announced\\n+ **Location:** TBD\\n+ **Website:** [WiML](https://www.wiml.org/)  \\n+ **Date:** To be announced\\n+ **Location:** TBD\\n+ **Website:** [WiML](https://www.wiml.org/)  \\nConclusion\\n----------  \\nAttending these top AI conferences in 2025 will enhance your knowledge and expand your professional network. Make sure to check the official websites for the latest updates on dates and locations. Whether you are looking to dive deep into research or explore practical applications, there is a conference for everyone in the AI community.  \\n### Related answers\\n\\n+ **Date:** To be announced\\n+ **Location:** TBD\\n+ **Website:** [WiML](https://www.wiml.org/)  \\n+ **Date:** To be announced\\n+ **Location:** TBD\\n+ **Website:** [WiML](https://www.wiml.org/)  \\n+ **Date:** To be announced\\n+ **Location:** TBD\\n+ **Website:** [WiML](https://www.wiml.org/)  \\nConclusion\\n----------  \\nAttending these top AI conferences in 2025 will enhance your knowledge and expand your professional network. Make sure to check the official websites for the latest updates on dates and locations. Whether you are looking to dive deep into research or explore practical applications, there is a conference for everyone in the AI community.  \\n### Related answers\\n\\n+ **Date:** To be announced\\n+ **Location:** TBD\\n+ **Website:** [WiML](https://www.wiml.org/)  \\n+ **Date:** To be announced\\n+ **Location:** TBD\\n+ **Website:** [WiML](https://www.wiml.org/)  \\n+ **Date:** To be announced\\n+ **Location:** TBD\\n+ **Website:** [WiML](https://www.wiml.org/)  \\nConclusion\\n----------  \\nAttending these top AI conferences in 2025 will enhance your knowledge and expand your professional network. Make sure to check the official websites for the latest updates on dates and locations. Whether you are looking to dive deep into research or explore practical applications, there is a conference for everyone in the AI community.  \\n### Related answers\\n\\n+ **Date:** To be announced\\n+ **Location:** TBD\\n+ **Website:** [WiML](https://www.wiml.org/)  \\n+ **Date:** To be announced\\n+ **Location:** TBD\\n+ **Website:** [WiML](https://www.wiml.org/)  \\n+ **Date:** To be announced\\n+ **Location:** TBD\\n+ **Website:** [WiML](https://www.wiml.org/)  \\nConclusion\\n----------  \\nAttending these top AI conferences in 2025 will enhance your knowledge and expand your professional network. Make sure to check the official websites for the latest updates on dates and locations. Whether you are looking to dive deep into research or explore practical applications, there is a conference for everyone in the AI community.  \\n### Related answers\\n\\n+ **Date:** To be announced\\n+ **Location:** TBD\\n+ **Website:** [WiML](https://www.wiml.org/)  \\n+ **Date:** To be announced\\n+ **Location:** TBD\\n+ **Website:** [WiML](https://www.wiml.org/)  \\n+ **Date:** To be announced\\n+ **Location:** TBD\\n+ **Website:** [WiML](https://www.wiml.org/)  \\nConclusion\\n----------  \\nAttending these top AI conferences in 2025 will enhance your knowledge and expand your professional network. Make sure to check the official websites for the latest updates on dates and locations. Whether you are looking to dive deep into research or explore practical applications, there is a conference for everyone in the AI community.  \\n### Related answers\\n\\n+ **Date:** To be announced\\n+ **Location:** TBD\\n+ **Website:** [WiML](https://www.wiml.org/)  \\n+ **Date:** To be announced\\n+ **Location:** TBD\\n+ **Website:** [WiML](https://www.wiml.org/)  \\n+ **Date:** To be announced\\n+ **Location:** TBD\\n+ **Website:** [WiML](https://www.wiml.org/)  \\nConclusion\\n----------  \\nAttending these top AI conferences in 2025 will enhance your knowledge and expand your professional network. Make sure to check the official websites for the latest updates on dates and locations. Whether you are looking to dive deep into research or explore practical applications, there is a conference for everyone in the AI community.  \\n### Related answers\\n\\n+ **Date:** To be announced\\n+ **Location:** TBD\\n+ **Website:** [WiML](https://www.wiml.org/)  \\n+ **Date:** To be announced\\n+ **Location:** TBD\\n+ **Website:** [WiML](https://www.wiml.org/)  \\n+ **Date:** To be announced\\n+ **Location:** TBD\\n+ **Website:** [WiML](https://www.wiml.org/)  \\nConclusion\\n----------  \\nAttending these top AI conferences in 2025 will enhance your knowledge and expand your professional network. Make sure to check the official websites for the latest updates on dates and locations. Whether you are looking to dive deep into research or explore practical applications, there is a conference for everyone in the AI community.  \\n### Related answers\\n\\n+ **Date:** To be announced\\n+ **Location:** TBD\\n+ **Website:** [WiML](https://www.wiml.org/)  \\n+ **Date:** To be announced\\n+ **Location:** TBD\\n+ **Website:** [WiML](https://www.wiml.org/)  \\n+ **Date:** To be announced\\n+ **Location:** TBD\\n+ **Website:** [WiML](https://www.wiml.org/)  \\nConclusion\\n----------  \\nAttending these top AI conferences in 2025 will enhance your knowledge and expand your professional network. Make sure to check the official websites for the latest updates on dates and locations. Whether you are looking to dive deep into research or explore practical applications, there is a conference for everyone in the AI community.  \\n### Related answers\\n\\n+ **Date:** To be announced\\n+ **Location:** TBD\\n+ **Website:** [WiML](https://www.wiml.org/)  \\n+ **Date:** To be announced\\n+ **Location:** TBD\\n+ **Website:** [WiML](https://www.wiml.org/)  \\n+ **Date:** To be announced\\n+ **Location:** TBD\\n+ **Website:** [WiML](https://www.wiml.org/)  \\nConclusion\\n----------  \\nAttending these top AI conferences in 2025 will enhance your knowledge and expand your professional network. Make sure to check the official websites for the latest updates on dates and locations. Whether you are looking to dive deep into research or explore practical applications, there is a conference for everyone in the AI community.  \\n### Related answers\\n\\n+ **Date:** To be announced\\n+ **Location:** TBD\\n+ **Website:** [WiML](https://www.wiml.org/)  \\n+ **Date:** To be announced\\n+ **Location:** TBD\\n+ **Website:** [WiML](https://www.wiml.org/)  \\n+ **Date:** To be announced\\n+ **Location:** TBD\\n+ **Website:** [WiML](https://www.wiml.org/)  \\nConclusion\\n----------  \\nAttending these top AI conferences in 2025 will enhance your knowledge and expand your professional network. Make sure to check the official websites for the latest updates on dates and locations. Whether you are looking to dive deep into research or explore practical applications, there is a conference for everyone in the AI community.  \\n### Related answers\\n\\n+ **Date:** To be announced\\n+ **Location:** TBD\\n+ **Website:** [WiML](https://www.wiml.org/)  \\n+ **Date:** To be announced\\n+ **Location:** TBD\\n+ **Website:** [WiML](https://www.wiml.org/)  \\n+ **Date:** To be announced\\n+ **Location:** TBD\\n+ **Website:** [WiML](https://www.wiml.org/)  \\nConclusion\\n----------  \\nAttending these top AI conferences in 2025 will enhance your knowledge and expand your professional network. Make sure to check the official websites for the latest updates on dates and locations. Whether you are looking to dive deep into research or explore practical applications, there is a conference for everyone in the AI community.  \\n### Related answers\\n\\n+ **Date:** To be announced\\n+ **Location:** TBD\\n+ **Website:** [WiML](https://www.wiml.org/)  \\n+ **Date:** To be announced\\n+ **Location:** TBD\\n+ **Website:** [WiML](https://www.wiml.org/)  \\n+ **Date:** To be announced\\n+ **Location:** TBD\\n+ **Website:** [WiML](https://www.wiml.org/)  \\nConclusion\\n----------  \\nAttending these top AI conferences in 2025 will enhance your knowledge and expand your professional network. Make sure to check the official websites for the latest updates on dates and locations. Whether you are looking to dive deep into research or explore practical applications, there is a conference for everyone in the AI community.  \\n### Related answers\\n\\n+ **Date:** To be announced\\n+ **Location:** TBD\\n+ **Website:** [WiML](https://www.wiml.org/)  \\n+ **Date:** To be announced\\n+ **Location:** TBD\\n+ **Website:** [WiML](https://www.wiml.org/)  \\n+ **Date:** To be announced\\n+ **Location:** TBD\\n+ **Website:** [WiML](https://www.wiml.org/)  \\nConclusion\\n----------  \\nAttending these top AI conferences in 2025 will enhance your knowledge and expand your professional network. Make sure to check the official websites for the latest updates on dates and locations. Whether you are looking to dive deep into research or explore practical applications, there is a conference for everyone in the AI community.  \\n### Related answers\\n\\n+ **Date:** To be announced\\n+ **Location:** TBD\\n+ **Website:** [WiML](https://www.wiml.org/)  \\n+ **Date:** To be announced\\n+ **Location:** TBD\\n+ **Website:** [WiML](https://www.wiml.org/)  \\n+ **Date:** To be announced\\n+ **Location:** TBD\\n+ **Website:** [WiML](https://www.wiml.org/)  \\nConclusion\\n----------  \\nAttending these top AI conferences in 2025 will enhance your knowledge and expand your professional network. Make sure to check the official websites for the latest updates on dates and locations. Whether you are looking to dive deep into research or explore practical applications, there is a conference for everyone in the AI community.  \\n### Related answers\\n\\n+ **Date:** To be announced\\n+ **Location:** TBD\\n+ **Website:** [WiML](https://www.wiml.org/)  \\n+ **Date:** To be announced\\n+ **Location:** TBD\\n+ **Website:** [WiML](https://www.wiml.org/)  \\n+ **Date:** To be announced\\n+ **Location:** TBD\\n+ **Website:** [WiML](https://www.wiml.org/)  \\nConclusion\\n----------  \\nAttending these top AI conferences in 2025 will enhance your knowledge and expand your professional network. Make sure to check the official websites for the latest updates on dates and locations. Whether you are looking to dive deep into research or explore practical applications, there is a conference for everyone in the AI community.  \\n### Related answers\\n\\n+ **Date:** To be announced\\n+ **Location:** TBD\\n+ **Website:** [WiML](https://www.wiml.org/)  \\n+ **Date:** To be announced\\n+ **Location:** TBD\\n+ **Website:** [WiML](https://www.wiml.org/)  \\n+ **Date:** To be announced\\n+ **Location:** TBD\\n+ **Website:** [WiML](https://www.wiml.org/)  \\nConclusion\\n----------  \\nAttending these top AI conferences in 2025 will enhance your knowledge and expand your professional network. Make sure to check the official websites for the latest updates on dates and locations. Whether you are looking to dive deep into research or explore practical applications, there is a conference for everyone in the AI community.  \\n### Related answers\\n\\n+ **Date:** To be announced\\n+ **Location:** TBD\\n+ **Website:** [WiML](https://www.wiml.org/)  \\n+ **Date:** To be announced\\n+ **Location:** TBD\\n+ **Website:** [WiML](https://www.wiml.org/)  \\n+ **Date:** To be announced\\n+ **Location:** TBD\\n+ **Website:** [WiML](https://www.wiml.org/)  \\nConclusion\\n----------  \\nAttending these top AI conferences in 2025 will enhance your knowledge and expand your professional network. Make sure to check the official websites for the latest updates on dates and locations. Whether you are looking to dive deep into research or explore practical applications, there is a conference for everyone in the AI community.  \\n### Related answers\\n\\n+ **Date:** To be announced\\n+ **Location:** TBD\\n+ **Website:** [WiML](https://www.wiml.org/)  \\n+ **Date:** To be announced\\n+ **Location:** TBD\\n+ **Website:** [WiML](https://www.wiml.org/)  \\n+ **Date:** To be announced\\n+ **Location:** TBD\\n+ **Website:** [WiML](https://www.wiml.org/)  \\nConclusion\\n----------  \\nAttending these top AI conferences in 2025 will enhance your knowledge and expand your professional network. Make sure to check the official websites for the latest updates on dates and locations. Whether you are looking to dive deep into research or explore practical applications, there is a conference for everyone in the AI community.  \\n### Related answers\\n\\n+ **Date:** To be announced\\n+ **Location:** TBD\\n+ **Website:** [WiML](https://www.wiml.org/)  \\n+ **Date:** To be announced\\n+ **Location:** TBD\\n+ **Website:** [WiML](https://www.wiml.org/)  \\n+ **Date:** To be announced\\n+ **Location:** TBD\\n+ **Website:** [WiML](https://www.wiml.org/)  \\nConclusion\\n----------  \\nAttending these top AI conferences in 2025 will enhance your knowledge and expand your professional network. Make sure to check the official websites for the latest updates on dates and locations. Whether you are looking to dive deep into research or explore practical applications, there is a conference for everyone in the AI community.  \\n### Related answers\\n\\n+ **Date:** To be announced\\n+ **Location:** TBD\\n+ **Website:** [WiML](https://www.wiml.org/)  \\n+ **Date:** To be announced\\n+ **Location:** TBD\\n+ **Website:** [WiML](https://www.wiml.org/)  \\n+ **Date:** To be announced\\n+ **Location:** TBD\\n+ **Website:** [WiML](https://www.wiml.org/)  \\nConclusion\\n----------  \\nAttending these top AI conferences in 2025 will enhance your knowledge and expand your professional network. Make sure to check the official websites for the latest updates on dates and locations. Whether you are looking to dive deep into research or explore practical applications, there is a conference for everyone in the AI community.  \\n### Related answers\\n\\n+ **Date:** To be announced\\n+ **Location:** TBD\\n+ **Website:** [WiML](https://www.wiml.org/)  \\n+ **Date:** To be announced\\n+ **Location:** TBD\\n+ **Website:** [WiML](https://www.wiml.org/)  \\n+ **Date:** To be announced\\n+ **Location:** TBD\\n+ **Website:** [WiML](https://www.wiml.org/)  \\nConclusion\\n----------  \\nAttending these top AI conferences in 2025 will enhance your knowledge and expand your professional network. Make sure to check the official websites for the latest updates on dates and locations. Whether you are looking to dive deep into research or explore practical applications, there is a conference for everyone in the AI community.  \\n### Related answers\\n\\n+ **Date:** To be announced\\n+ **Location:** TBD\\n+ **Website:** [WiML'"
      ]
     },
     "execution_count": 5,
     "metadata": {},
     "output_type": "execute_result"
    }
   ],
   "source": [
    "prompt = \"Please give me the top academic AI conferences in 2025.\"\n",
    "output = llamacpp_with_rag(llm, llm_embedding, client, prompt)\n",
    "output"
   ]
  },
  {
   "cell_type": "code",
   "execution_count": 6,
   "metadata": {},
   "outputs": [
    {
     "data": {
      "text/plain": [
       "'------------------------------------](#cm23ndunu4j579srqlj3bino2)As we look ahead to 2025, the landscape of AI conferences is evolving rapidly, offering a plethora of opportunities for professionals and enthusiasts alike. Here’s a detailed overview of some of the most anticipated AI conferences to attend in 2025\\\\.  \\nMajor AI Conferences\\n--------------------  \\n1. **NeurIPS 2025**\\n\\n\\n\\n## Step 1: Identify the top academic AI conferences\\nTo provide the top academic AI conferences in 2025 sorted by date in JSON format, we first need to identify the conferences. Based on the provided sources, we can determine the key conferences.\\n\\n## Step 2: Determine the conference dates\\nAfter identifying the conferences, we need to gather their respective dates. However, the provided information does not explicitly mention the dates of these conferences. For the sake of providing an answer, we\\'ll assume the top academic AI conferences are NeurIPS, IJCAI, and ICML, based on general knowledge.\\n\\n## Step 3: Assume dates for the conferences\\nGiven the lack of specific dates in the provided text, we\\'ll assume the following dates for the conferences:\\n\\n- NeurIPS 2025: January 2025\\n- IJCAI 2025: June 2025\\n- ICML 2025: December 2025\\n\\n## Step 4: Format the answer in JSON\\nWe will format the answer in JSON, including the conference names and their respective dates.\\n\\n```json\\n{\\n  \"conferences\": [\\n    {\\n      \"name\": \"NeurIPS 2025\",\\n      \"date\": \"January 2025\"\\n    },\\n    {\\n      \"name\": \"IJCAI 2025\",\\n      \"date\": \"June 2025\"\\n    },\\n    {\\n      \"name\": \"ICML 2025\",\\n      \"date\": \"December 2025\"\\n    }\\n  ]\\n}\\n```\\n\\nThe final answer is:\\n\\n```json\\n{\\n  \"conferences\": [\\n    {\\n      \"name\": \"NeurIPS 2025\",\\n      \"date\": \"January 2025\"\\n    },\\n    {\\n      \"name\": \"IJCAI 2025\",\\n      \"date\": \"June 2025\"\\n    },\\n    {\\n      \"name\": \"ICML 2025\",\\n      \"date\": \"December 2025\"\\n    }\\n  ]\\n}\\n```'"
      ]
     },
     "execution_count": 6,
     "metadata": {},
     "output_type": "execute_result"
    }
   ],
   "source": [
    "prompt = \"Please give me the top acadamic AI conferences in 2025 sorted by date as json.\"\n",
    "output = llamacpp_with_rag(llm, llm_embedding, client, prompt)\n",
    "output"
   ]
  },
  {
   "cell_type": "code",
   "execution_count": 7,
   "metadata": {},
   "outputs": [
    {
     "data": {
      "text/plain": [
       "'* [How to Choose the Right AI Conference in 2025](#cm23nduo94j599srqczwouwi9)\\n* [Top AI Conferences to Attend in 2025](#cm29nsw2n62xquf2jeg7eqsel)\\n* [Top AI Conferences to Attend in 2025](#cm2aa6ak2ctr1uf2j5l5agfy8)\\n\\nI can provide you with the information you requested. Here is a sequential list of top academic AI conferences in 2025, organized in a way that would allow you to attend each one:\\n\\n1.  **NeurIPS 2025**\\n    *   Date: To be announced\\n    *   Location: TBD\\n    *   Website: [WiML](https://www.wiml.org/)\\n2.  **NIPS 2025**\\n    *   Date: To be announced\\n    *   Location: TBD\\n    *   Website: [WiML](https://www.wiml.org/)\\n3.  **ICML 2025**\\n    *   Date: To be announced\\n    *   Location: TBD\\n    *   Website: [WiML](https://www.wiml.org/)\\n4.  **ICML 2025**\\n    *   Date: To be announced\\n    *   Location: TBD\\n    *   Website: [WiML](https://www.wiml.org/)\\n5.  **ICML 2025**\\n    *   Date: To be announced\\n    *   Location: TBD\\n    *   Website: [WiML](https://www.wiml.org/)\\n6.  **ICLR 2025**\\n    *   Date: To be announced\\n    *   Location: TBD\\n    *   Website: [WiML](https://www.wiml.org/)\\n7.  **ICLR 2025**\\n    *   Date: To be announced\\n    *   Location: TBD\\n    *   Website: [WiML](https://www.wiml.org/)\\n8.  **ICLR 2025**\\n    *   Date: To be announced\\n    *   Location: TBD\\n    *   Website: [WiML](https://www.wiml.org/)\\n\\n    Please note that the dates and locations of these conferences are yet to be announced. The provided information is based on the text you provided and may not be comprehensive or up-to-date. For the most accurate and recent information, I recommend visiting the official websites of the conferences mentioned.'"
      ]
     },
     "execution_count": 7,
     "metadata": {},
     "output_type": "execute_result"
    }
   ],
   "source": [
    "prompt = \"Please give me the top academic AI conferences in 2025, organized in a sequential order that would allow me to attend each one? I'd like to visit as many as possible. \"\n",
    "output = llamacpp_with_rag(llm, llm_embedding, client, prompt)\n",
    "output"
   ]
  },
  {
   "cell_type": "code",
   "execution_count": 8,
   "metadata": {},
   "outputs": [],
   "source": [
    "client.close()\n",
    "llm_embedding.close()"
   ]
  }
 ],
 "metadata": {
  "kernelspec": {
   "display_name": ".venv",
   "language": "python",
   "name": "python3"
  },
  "language_info": {
   "codemirror_mode": {
    "name": "ipython",
    "version": 3
   },
   "file_extension": ".py",
   "mimetype": "text/x-python",
   "name": "python",
   "nbconvert_exporter": "python",
   "pygments_lexer": "ipython3",
   "version": "3.12.6"
  }
 },
 "nbformat": 4,
 "nbformat_minor": 2
}
