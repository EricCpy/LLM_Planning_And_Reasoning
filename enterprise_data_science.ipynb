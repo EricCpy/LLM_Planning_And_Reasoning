{
 "cells": [
  {
   "cell_type": "code",
   "execution_count": null,
   "metadata": {},
   "outputs": [],
   "source": [
    "import requests\n",
    "from bs4 import BeautifulSoup\n",
    "from huggingface_hub import hf_hub_download\n",
    "from llama_cpp import Llama\n",
    "from pydantic import BaseModel, Field\n",
    "from typing import Optional\n",
    "from lmformatenforcer import JsonSchemaParser\n",
    "import os\n",
    "from selenium import webdriver\n",
    "from selenium.webdriver.common.by import By\n",
    "from selenium.common.exceptions import NoSuchElementException\n",
    "import time\n",
    "import pandas as pd\n",
    "from datetime import datetime\n",
    "from helper import *"
   ]
  },
  {
   "cell_type": "code",
   "execution_count": null,
   "metadata": {},
   "outputs": [],
   "source": [
    "class Conference(BaseModel):\n",
    "    name: str = Field(description=\"Name of the conference\")\n",
    "    location: Optional[str] = Field(description=\"Location of the conference\")\n",
    "    date: Optional[str] = Field(description=\"Date of the location in the following format DD/MM/YYYY\")\n",
    "\n",
    "class Conferences(BaseModel):\n",
    "    conferences: list[Conference] = Field(description=\"List of Conferences\")\n",
    "\n",
    "class Queries(BaseModel):\n",
    "    queries: list[str] = Field(description=\"Google Search Query for Topic\")\n",
    "\n",
    "headers = {\n",
    "    'User-Agent': 'Mozilla/5.0 (Windows NT 10.0; Win64; x64; rv:132.0) Gecko/20100101 Firefox/132.0',\n",
    "    'Accept': 'text/html,application/xhtml+xml,application/xml;q=0.9,*/*;q=0.8',\n",
    "    'Accept-Encoding': 'gzip, deflate',\n",
    "    'DNT': '1',\n",
    "    'Connection': 'keep-alive',\n",
    "    'Upgrade-Insecure-Requests': '1'\n",
    "}\n",
    "\n",
    "\n",
    "def ask_llm_for_conferences(llm: Llama, markdown_texts: list[str]) -> list[Conference]:\n",
    "    conferences = dict()\n",
    "    for idx, text in enumerate(markdown_texts):\n",
    "        print(f\"Working on {idx + 1}/{len(markdown_texts)}:\")\n",
    "        prompt = f\"\"\"You are an AI assistant. Based on the scraped search result below, extract and provide the top academic AI conferences in the format of a JSON list.\n",
    "                    Scraped Content:\n",
    "                    {text[:llm.n_ctx() - 1000]}\n",
    "                    You MUST answer using the following json schema: {Conferences.model_json_schema()}\"\"\"\n",
    "        try:\n",
    "            output = llamacpp_with_character_level_parser(llm, prompt, JsonSchemaParser(Conferences.model_json_schema()))\n",
    "            output_conferences = Conferences.model_validate_json(output.replace(\"\\r\\n\", \"\\n\"))\n",
    "            for new_conference in output_conferences.conferences:\n",
    "                if new_conference.name in conferences:\n",
    "                    existing_conference = conferences[new_conference.name]\n",
    "                    # Replace None values in existing_conference with values from new_conference\n",
    "                    for field, value in new_conference.model_dump().items():\n",
    "                        if getattr(existing_conference, field) is None and value is not None:\n",
    "                            setattr(existing_conference, field, value)\n",
    "                else:\n",
    "                    conferences[new_conference.name] = new_conference\n",
    "            print(\"Finished successful.\")\n",
    "        except Exception as e:\n",
    "            print(f\"Error parsing JSON: {e}\")\n",
    "    \n",
    "    return list(conferences.values())"
   ]
  },
  {
   "cell_type": "code",
   "execution_count": 3,
   "metadata": {},
   "outputs": [],
   "source": [
    "downloaded_model_path = hf_hub_download(repo_id=\"bartowski/Llama-3.2-3B-Instruct-GGUF\", filename=\"Llama-3.2-3B-Instruct-Q6_K_L.gguf\")\n",
    "llm = Llama(model_path=downloaded_model_path, n_ctx=16384, n_threads=8, n_gpu_layers=-1, verbose=False)"
   ]
  },
  {
   "cell_type": "code",
   "execution_count": 4,
   "metadata": {},
   "outputs": [
    {
     "data": {
      "text/plain": [
       "['top AI conferences 2025',\n",
       " 'best AI conferences 2025',\n",
       " 'leading AI conferences 2025',\n",
       " 'top-tier AI conferences 2025',\n",
       " 'notable AI conferences 2025']"
      ]
     },
     "execution_count": 4,
     "metadata": {},
     "output_type": "execute_result"
    }
   ],
   "source": [
    "prompt = f\"\"\"Generate five different Google search queries to find information on the top academic AI conferences in 2025.\n",
    "            These queries should be tailored to discover high-impact conferences covering fields like machine learning, natural language processing,\n",
    "            computer vision, and other areas within AI.\n",
    "            You MUST answer using the following json schema: {Queries.model_json_schema()}\"\"\"\n",
    "queries = llamacpp_with_character_level_parser(llm, prompt, JsonSchemaParser(Queries.model_json_schema()))\n",
    "queries = Queries.model_validate_json(queries).queries\n",
    "queries"
   ]
  },
  {
   "cell_type": "code",
   "execution_count": 5,
   "metadata": {},
   "outputs": [
    {
     "name": "stdout",
     "output_type": "stream",
     "text": [
      "Working on 1/10:\n",
      "Finished successful.\n",
      "Working on 2/10:\n",
      "Finished successful.\n",
      "Working on 3/10:\n",
      "Finished successful.\n",
      "Working on 4/10:\n",
      "Finished successful.\n",
      "Working on 5/10:\n",
      "Finished successful.\n",
      "Working on 6/10:\n",
      "Finished successful.\n",
      "Working on 7/10:\n",
      "Error parsing JSON: 1 validation error for Conferences\n",
      "  Invalid JSON: EOF while parsing an object at line 87 column 11 [type=json_invalid, input_value='  \\n\\n\\n\\n    {\\n       ... 29, 2024\"\\n           ', input_type=str]\n",
      "    For further information visit https://errors.pydantic.dev/2.9/v/json_invalid\n",
      "Working on 8/10:\n",
      "Finished successful.\n",
      "Working on 9/10:\n",
      "Finished successful.\n",
      "Working on 10/10:\n",
      "Finished successful.\n"
     ]
    },
    {
     "data": {
      "text/plain": [
       "[Conference(name='SXSW Conference', location='Austin, TX, USA', date='Mar 7-15, 2025'),\n",
       " Conference(name='Conversational AI \\\\Æ Customer Experience', location='Munich, Germany', date='Nov 6-7, 2024'),\n",
       " Conference(name='Computer Vision Summit London', location='London, UK', date='Nov 7, 2024'),\n",
       " Conference(name='Data Science Salon San Francisco', location='San Francisco, CA, USA', date='Nov 7, 2024'),\n",
       " Conference(name='Middle East Enterprise AI \\\\Æ Analytics Summit', location='Dubai, UAE', date='Nov 7, 2024'),\n",
       " Conference(name='AI for Marketers Summit', location='Online', date='Nov 12-14, 2024'),\n",
       " Conference(name='QCon', location='San Francisco, CA, USA', date='Nov 18-20, 2024'),\n",
       " Conference(name='Big Data Conference Europe', location='Vilnius, Lithuania', date='Nov 19-22, 2024'),\n",
       " Conference(name='MLCON Berlin', location='Berlin, Germany', date='Nov 25-28, 2024'),\n",
       " Conference(name='AI World Congress', location='London, UK', date='Nov 27-28, 2024'),\n",
       " Conference(name='The AI Summit', location='New York, NY, USA', date='Dec 11-12, 2024'),\n",
       " Conference(name='Ai Everything', location='Dubai, UAE', date='Feb 5-6, 2025'),\n",
       " Conference(name='AI \\\\Æ Big Data Expo', location='London, UK', date='Feb 5-6, 2025'),\n",
       " Conference(name='LEAP', location='Riyadh, Saudi Arabia', date='Feb 10-13, 2025'),\n",
       " Conference(name='CISO Sydney', location='Sydney, Australia', date='Feb 11-12, 2025'),\n",
       " Conference(name='Deep Learning \\\\Æ Advanced ML Summit', location='San Jose, CA, USA', date='Feb 11-12, 2025'),\n",
       " Conference(name='Chief AI Officer Summit UK', location='London, UK', date='Feb 12, 2025'),\n",
       " Conference(name='International Conference on AI \\\\Æ Data Science', location='Dubai, UAE', date='Feb 13-15, 2025'),\n",
       " Conference(name='MWC Barcelona', location='Barcelona, Spain', date='Mar 3-6, 2025'),\n",
       " Conference(name='HRO Today HR Data Analytics and AI Summit', location='Atlanta, GA, USA', date='Mar 4-5, 2025'),\n",
       " Conference(name='Neural Information Processing Systems (NIPS) Conference', location='Beverly Hills, California, USA', date='12/12/2022'),\n",
       " Conference(name='International Joint Conference on Artificial Intelligence (IJCAI) 2022', location='Cancun, Mexico', date='06/27/2022'),\n",
       " Conference(name='Conference on Neural Information Processing Systems (NeurIPS) 2021', location='Monterey, California, USA', date='12/11/2021'),\n",
       " Conference(name='Conference on Neural Information Processing Systems (NeurIPS) 2020', location='New York, USA', date='12/12/2020'),\n",
       " Conference(name='International Joint Conference on Artificial Intelligence (IJCAI) 2019', location='Stockholm, Sweden', date='07/13/2019'),\n",
       " Conference(name='Conference on Neural Information Processing Systems (NeurIPS) 2018', location='Monterey, California, USA', date='12/09/2018'),\n",
       " Conference(name='International Joint Conference on Artificial Intelligence (IJCAI) 2017', location='Rome, Italy', date='08/21/2017'),\n",
       " Conference(name='Conference on Neural Information Processing Systems (NeurIPS) 2016', location='San Francisco, California, USA', date='12/04/2016'),\n",
       " Conference(name='International Joint Conference on Artificial Intelligence (IJCAI) 2016', location='Boston, Massachusetts, USA', date='08/21/2016'),\n",
       " Conference(name='Conference on Neural Information Processing Systems (NeurIPS) 2015', location='Monterey, California, USA', date='12/06/2015'),\n",
       " Conference(name='International Joint Conference on Artificial Intelligence (IJCAI) 2015', location='Los Angeles, California, USA', date='08/09/2015'),\n",
       " Conference(name='AI Village @ Defcon', location='Las Vegas, NV', date='Aug 8 - 12'),\n",
       " Conference(name='Ai4 2024', location='Las Vegas, NV', date='Aug 12 - 14'),\n",
       " Conference(name='AWS Summit Ciudad de Mxico', location='Ciudad de Mexico', date='Aug 7'),\n",
       " Conference(name='Gemini Developer Competition', location='Virtual', date='May 14 - Aug 12'),\n",
       " Conference(name='Tech Week', location='San Francisco, CA', date='Oct 7 - 13'),\n",
       " Conference(name='AWS Summit Toronto', location='Toronto', date='Sep 11'),\n",
       " Conference(name='Fast Company Innovation Festival', location='New York, NY', date='Sep 16 - 19'),\n",
       " Conference(name='AWS Accelerate 2024', location='Seattle, WA', date='Sep 17 - 19'),\n",
       " Conference(name='PyTorch Conference', location='San Francisco, CA', date='Sep 18 - 19'),\n",
       " Conference(name='Gemini at Work', location='Virtual', date='Sep 24'),\n",
       " Conference(name='Meta Connect', location='Virtual', date='Sep 25 - 26'),\n",
       " Conference(name='Zap Connect', location='Virtual', date='Sep 26'),\n",
       " Conference(name='OpenAI DevDay', location='San Francisco, CA', date='Oct 1'),\n",
       " Conference(name='AI ¼ Big Data Expo', location='Rai, Amsterdam', date='Oct 1 - 2'),\n",
       " Conference(name='Generative AI World 2024', location='Boston, MA', date='Oct 7 - 8'),\n",
       " Conference(name='NVIDIA AI Summit', location='Washington, D.C', date='Oct 7 - 9'),\n",
       " Conference(name='Marketing Analytics ¼ Data Science (MADS),', location='San Diego, CA', date='Oct 21 - 23'),\n",
       " Conference(name='Gartner IT Symposium/Xpo', location='Orlando, FL', date='Oct 21 - 24'),\n",
       " Conference(name='TEDAI 2024', location='San Francisco, CA', date='Oct 22 - 23'),\n",
       " Conference(name='AISTATS 2025', location='Phuket, Thailand', date='May 03-05, 2025'),\n",
       " Conference(name='ICLR 2025', location='Singapore', date='Apr 24-28, 2025'),\n",
       " Conference(name='ICRA 2025', location='Atlanta, USA', date='May 19-23, 2025'),\n",
       " Conference(name='AAAI 2025', location='Philadelphia, USA', date='February 25 - March 04, 2025'),\n",
       " Conference(name='BMVC 2024', location='Glasgow, UK', date='November 25-28, 2024'),\n",
       " Conference(name='CES (Consumer Electronics Show) 2025', location='Las Vegas, USA', date='January 7–10, 2025'),\n",
       " Conference(name='AI Expo Global 2025', location='Olympia, London, UK', date='March 11–12, 2025'),\n",
       " Conference(name='Strata Data Ð AI Conference 2025', location='San Francisco, USA', date='April 2025 (exact dates TBA'),\n",
       " Conference(name='AI Summit London 2025', location='ExCel, London, UK', date='June 11–12, 2025'),\n",
       " Conference(name='The AI Conference 2025', location='San Francisco, USA', date='September 15–17, 2025'),\n",
       " Conference(name='O\\\\u2019Reilly AI Conference 2025', location='San Francisco, USA & Online', date='August 2025 (exact dates TBA'),\n",
       " Conference(name='NeurIPS (Conference on Neural Information Processing Systems) 2025', location='TBD', date='December 2025 (exact dates TBA'),\n",
       " Conference(name='Big Data LDN 2025', location='London, UK', date='November 19–20, 2025'),\n",
       " Conference(name='ICML (International Conference on Machine Learning) 2025', location='Vienna, Austria', date='July 2025 (exact dates TBA'),\n",
       " Conference(name='Gartner Data Ð Analytics Summit 2025', location='Orlando, USA', date='March 24–26, 2025'),\n",
       " Conference(name='Artificial Intelligence Conference', location='Zurich, Switzerland', date='October 13-14, 2025'),\n",
       " Conference(name='AI In Cyber Security Conference', location='Tokyo, Japan', date='June 02-03, 2025'),\n",
       " Conference(name='Generative AI Conference', location='Osaka, Japan', date='November 10-11, 2025'),\n",
       " Conference(name='AI Industry 4.0 Conference', location='Osaka, Japan', date='September 22-23, 2025'),\n",
       " Conference(name='NeurIPS 2025', location='Vancouver, Canada', date='12/14/2025'),\n",
       " Conference(name='ICML 2025', location='Sydney, Australia', date='07/11/2025'),\n",
       " Conference(name='Rise of AI Conference 2025', location='Berlin, Germany', date='14/05/2025'),\n",
       " Conference(name='Rise of AI Conference 2024', location='Berlin', date='12/05/2024'),\n",
       " Conference(name='Rise of AI Conference 2023', location='Berlin', date='10/05/2023'),\n",
       " Conference(name='Rise of AI Conference 2022', location='Berlin', date='08/05/2022'),\n",
       " Conference(name='Rise of AI Conference 2021', location='Virtual', date='Virtual'),\n",
       " Conference(name='Summit 2020', location='Virtual', date='Virtual'),\n",
       " Conference(name='Rise of AI Conference 2019', location='Berlin', date='Virtual'),\n",
       " Conference(name='Rise of AI Conference 2018', location='Berlin', date='Virtual'),\n",
       " Conference(name='Future of AI', location='London', date='DD/MM/YYYY'),\n",
       " Conference(name='Intel Vision 2024', location='Intel', date='DD/MM/YYYY')]"
      ]
     },
     "execution_count": 5,
     "metadata": {},
     "output_type": "execute_result"
    }
   ],
   "source": [
    "urls = list({url['url'] for query in queries for url in get_top_urls_for_google_search_query(query)})\n",
    "markdowns = scrape_and_convert_to_markdown(urls[:10])\n",
    "conferences : list[Conference] = ask_llm_for_conferences(llm, markdowns)\n",
    "conferences"
   ]
  },
  {
   "cell_type": "code",
   "execution_count": 6,
   "metadata": {},
   "outputs": [],
   "source": [
    "# Write conferences to file\n",
    "output_path = os.path.join(os.getcwd(), \"conferences\")\n",
    "os.makedirs(output_path, exist_ok=True)\n",
    "with open(os.path.join(output_path, f\"conferences_{llm.metadata['general.name'].replace(' ', '_')}.json\"), 'w', encoding='utf-8') as f:\n",
    "    f.write(Conferences(conferences=conferences).model_dump_json(indent=4))"
   ]
  },
  {
   "cell_type": "markdown",
   "metadata": {},
   "source": [
    "## Sort Conferences"
   ]
  },
  {
   "cell_type": "code",
   "execution_count": null,
   "metadata": {},
   "outputs": [],
   "source": [
    "download_path = os.path.join(os.getcwd(), \"downloads\")\n",
    "os.makedirs(download_path, exist_ok=True)\n",
    "\n",
    "options = webdriver.FirefoxOptions()\n",
    "options.set_preference(\"browser.download.folderList\", 2)  # custom location\n",
    "options.set_preference(\"browser.download.dir\", download_path)\n",
    "options.set_preference(\"browser.helperApps.neverAsk.saveToDisk\", \"text/csv\")\n",
    "options.set_preference(\"browser.download.manager.showWhenStarting\", False)\n",
    "options.add_argument(\"--headless\")\n",
    "\n",
    "driver = webdriver.Firefox(options=options)\n",
    "driver.implicitly_wait(5)\n",
    "\n",
    "def get_number_of_searches(query: str):\n",
    "    url = f\"https://trends.google.com/trends/explore?date=today%201-m&q={query.replace(' ', '%20')}\"\n",
    "    driver.get(url)\n",
    "    download_button = None\n",
    "    for i in range(5):\n",
    "        try:\n",
    "            download_button = driver.find_element(By.XPATH, \"//button[@class='widget-actions-item export' and @title='CSV']\")\n",
    "            break\n",
    "        except NoSuchElementException:\n",
    "            time.sleep(1)\n",
    "            driver.refresh()\n",
    "            \n",
    "    if download_button:\n",
    "        try:\n",
    "            download_button.click()\n",
    "        except:\n",
    "            print(\"Button click failed!\")\n",
    "            return 0    \n",
    "    else:\n",
    "        print(\"Download button not found after multiple attempts.\")\n",
    "        return 0 \n",
    "\n",
    "    csv_file_path = os.path.join(download_path, 'multiTimeline.csv')\n",
    "    timeout = 5\n",
    "    start_time = time.time()\n",
    "    while not os.path.exists(csv_file_path):\n",
    "        if time.time() - start_time > timeout:\n",
    "            print(\"CSV file download timed out.\")\n",
    "            return 0 \n",
    "        time.sleep(1)\n",
    "\n",
    "    df = pd.read_csv(csv_file_path, skiprows=2) # first two rows are header and not csv\n",
    "    total_searches = df.iloc[:, 1].sum()\n",
    "    os.remove(csv_file_path)\n",
    "    return total_searches"
   ]
  },
  {
   "cell_type": "markdown",
   "metadata": {},
   "source": [
    "### Conferences by Searches"
   ]
  },
  {
   "cell_type": "code",
   "execution_count": 25,
   "metadata": {},
   "outputs": [
    {
     "name": "stdout",
     "output_type": "stream",
     "text": [
      "<selenium.webdriver.remote.webelement.WebElement (session=\"6bf7e991-b567-4b7e-b0b7-30bae9386a56\", element=\"ddab62ed-623b-43f2-8841-cc73bb9ffa2b\")>\n",
      "<selenium.webdriver.remote.webelement.WebElement (session=\"6bf7e991-b567-4b7e-b0b7-30bae9386a56\", element=\"7da08d5f-5314-47d0-bc37-7eb10a3fa55d\")>\n",
      "<selenium.webdriver.remote.webelement.WebElement (session=\"6bf7e991-b567-4b7e-b0b7-30bae9386a56\", element=\"1f3beee9-301a-427d-8b75-6087163e6e6c\")>\n"
     ]
    },
    {
     "ename": "ElementClickInterceptedException",
     "evalue": "Message: Element <button class=\"widget-actions-item export\"> is not clickable at point (1127,671) because another element <a class=\"cookieBarButton cookieBarMoreButton\" href=\"https://policies.google.com/technologies/cookies?hl=de\"> obscures it\nStacktrace:\nRemoteError@chrome://remote/content/shared/RemoteError.sys.mjs:8:8\nWebDriverError@chrome://remote/content/shared/webdriver/Errors.sys.mjs:193:5\nElementClickInterceptedError@chrome://remote/content/shared/webdriver/Errors.sys.mjs:337:5\nwebdriverClickElement@chrome://remote/content/marionette/interaction.sys.mjs:177:11\ninteraction.clickElement@chrome://remote/content/marionette/interaction.sys.mjs:136:11\nclickElement@chrome://remote/content/marionette/actors/MarionetteCommandsChild.sys.mjs:205:29\nreceiveMessage@chrome://remote/content/marionette/actors/MarionetteCommandsChild.sys.mjs:85:31\n",
     "output_type": "error",
     "traceback": [
      "\u001b[1;31m---------------------------------------------------------------------------\u001b[0m",
      "\u001b[1;31mElementClickInterceptedException\u001b[0m          Traceback (most recent call last)",
      "Cell \u001b[1;32mIn[25], line 3\u001b[0m\n\u001b[0;32m      1\u001b[0m conferences_popularity :\u001b[38;5;28mdict\u001b[39m[\u001b[38;5;28mstr\u001b[39m, \u001b[38;5;28mtuple\u001b[39m[Conference, \u001b[38;5;28mint\u001b[39m]]\u001b[38;5;241m=\u001b[39m \u001b[38;5;28mdict\u001b[39m()\n\u001b[0;32m      2\u001b[0m \u001b[38;5;28;01mfor\u001b[39;00m conference \u001b[38;5;129;01min\u001b[39;00m conferences:\n\u001b[1;32m----> 3\u001b[0m     total_searches \u001b[38;5;241m=\u001b[39m \u001b[43mget_number_of_searches\u001b[49m\u001b[43m(\u001b[49m\u001b[43mconference\u001b[49m\u001b[38;5;241;43m.\u001b[39;49m\u001b[43mname\u001b[49m\u001b[43m)\u001b[49m\n\u001b[0;32m      4\u001b[0m     conferences_popularity[conference\u001b[38;5;241m.\u001b[39mname] \u001b[38;5;241m=\u001b[39m (conference, total_searches)\n\u001b[0;32m      6\u001b[0m conferences_sorted_by_searches \u001b[38;5;241m=\u001b[39m \u001b[38;5;28msorted\u001b[39m(conferences_popularity\u001b[38;5;241m.\u001b[39mvalues(), key\u001b[38;5;241m=\u001b[39m\u001b[38;5;28;01mlambda\u001b[39;00m x: x[\u001b[38;5;241m1\u001b[39m], reverse\u001b[38;5;241m=\u001b[39m\u001b[38;5;28;01mTrue\u001b[39;00m)\n",
      "Cell \u001b[1;32mIn[24], line 28\u001b[0m, in \u001b[0;36mget_number_of_searches\u001b[1;34m(query)\u001b[0m\n\u001b[0;32m     26\u001b[0m \u001b[38;5;28mprint\u001b[39m(download_button)\n\u001b[0;32m     27\u001b[0m \u001b[38;5;28;01mif\u001b[39;00m download_button:\n\u001b[1;32m---> 28\u001b[0m     \u001b[43mdownload_button\u001b[49m\u001b[38;5;241;43m.\u001b[39;49m\u001b[43mclick\u001b[49m\u001b[43m(\u001b[49m\u001b[43m)\u001b[49m\n\u001b[0;32m     29\u001b[0m \u001b[38;5;28;01melse\u001b[39;00m:\n\u001b[0;32m     30\u001b[0m     \u001b[38;5;28mprint\u001b[39m(\u001b[38;5;124m\"\u001b[39m\u001b[38;5;124mDownload button not found after multiple attempts.\u001b[39m\u001b[38;5;124m\"\u001b[39m)\n",
      "File \u001b[1;32md:\\Zeug\\Unizeug\\Master_DataScience\\3.Semester\\Urban Technologies\\Project\\.venv\\Lib\\site-packages\\selenium\\webdriver\\remote\\webelement.py:94\u001b[0m, in \u001b[0;36mWebElement.click\u001b[1;34m(self)\u001b[0m\n\u001b[0;32m     92\u001b[0m \u001b[38;5;28;01mdef\u001b[39;00m \u001b[38;5;21mclick\u001b[39m(\u001b[38;5;28mself\u001b[39m) \u001b[38;5;241m-\u001b[39m\u001b[38;5;241m>\u001b[39m \u001b[38;5;28;01mNone\u001b[39;00m:\n\u001b[0;32m     93\u001b[0m \u001b[38;5;250m    \u001b[39m\u001b[38;5;124;03m\"\"\"Clicks the element.\"\"\"\u001b[39;00m\n\u001b[1;32m---> 94\u001b[0m     \u001b[38;5;28;43mself\u001b[39;49m\u001b[38;5;241;43m.\u001b[39;49m\u001b[43m_execute\u001b[49m\u001b[43m(\u001b[49m\u001b[43mCommand\u001b[49m\u001b[38;5;241;43m.\u001b[39;49m\u001b[43mCLICK_ELEMENT\u001b[49m\u001b[43m)\u001b[49m\n",
      "File \u001b[1;32md:\\Zeug\\Unizeug\\Master_DataScience\\3.Semester\\Urban Technologies\\Project\\.venv\\Lib\\site-packages\\selenium\\webdriver\\remote\\webelement.py:395\u001b[0m, in \u001b[0;36mWebElement._execute\u001b[1;34m(self, command, params)\u001b[0m\n\u001b[0;32m    393\u001b[0m     params \u001b[38;5;241m=\u001b[39m {}\n\u001b[0;32m    394\u001b[0m params[\u001b[38;5;124m\"\u001b[39m\u001b[38;5;124mid\u001b[39m\u001b[38;5;124m\"\u001b[39m] \u001b[38;5;241m=\u001b[39m \u001b[38;5;28mself\u001b[39m\u001b[38;5;241m.\u001b[39m_id\n\u001b[1;32m--> 395\u001b[0m \u001b[38;5;28;01mreturn\u001b[39;00m \u001b[38;5;28;43mself\u001b[39;49m\u001b[38;5;241;43m.\u001b[39;49m\u001b[43m_parent\u001b[49m\u001b[38;5;241;43m.\u001b[39;49m\u001b[43mexecute\u001b[49m\u001b[43m(\u001b[49m\u001b[43mcommand\u001b[49m\u001b[43m,\u001b[49m\u001b[43m \u001b[49m\u001b[43mparams\u001b[49m\u001b[43m)\u001b[49m\n",
      "File \u001b[1;32md:\\Zeug\\Unizeug\\Master_DataScience\\3.Semester\\Urban Technologies\\Project\\.venv\\Lib\\site-packages\\selenium\\webdriver\\remote\\webdriver.py:380\u001b[0m, in \u001b[0;36mWebDriver.execute\u001b[1;34m(self, driver_command, params)\u001b[0m\n\u001b[0;32m    378\u001b[0m response \u001b[38;5;241m=\u001b[39m \u001b[38;5;28mself\u001b[39m\u001b[38;5;241m.\u001b[39mcommand_executor\u001b[38;5;241m.\u001b[39mexecute(driver_command, params)\n\u001b[0;32m    379\u001b[0m \u001b[38;5;28;01mif\u001b[39;00m response:\n\u001b[1;32m--> 380\u001b[0m     \u001b[38;5;28;43mself\u001b[39;49m\u001b[38;5;241;43m.\u001b[39;49m\u001b[43merror_handler\u001b[49m\u001b[38;5;241;43m.\u001b[39;49m\u001b[43mcheck_response\u001b[49m\u001b[43m(\u001b[49m\u001b[43mresponse\u001b[49m\u001b[43m)\u001b[49m\n\u001b[0;32m    381\u001b[0m     response[\u001b[38;5;124m\"\u001b[39m\u001b[38;5;124mvalue\u001b[39m\u001b[38;5;124m\"\u001b[39m] \u001b[38;5;241m=\u001b[39m \u001b[38;5;28mself\u001b[39m\u001b[38;5;241m.\u001b[39m_unwrap_value(response\u001b[38;5;241m.\u001b[39mget(\u001b[38;5;124m\"\u001b[39m\u001b[38;5;124mvalue\u001b[39m\u001b[38;5;124m\"\u001b[39m, \u001b[38;5;28;01mNone\u001b[39;00m))\n\u001b[0;32m    382\u001b[0m     \u001b[38;5;28;01mreturn\u001b[39;00m response\n",
      "File \u001b[1;32md:\\Zeug\\Unizeug\\Master_DataScience\\3.Semester\\Urban Technologies\\Project\\.venv\\Lib\\site-packages\\selenium\\webdriver\\remote\\errorhandler.py:229\u001b[0m, in \u001b[0;36mErrorHandler.check_response\u001b[1;34m(self, response)\u001b[0m\n\u001b[0;32m    227\u001b[0m         alert_text \u001b[38;5;241m=\u001b[39m value[\u001b[38;5;124m\"\u001b[39m\u001b[38;5;124malert\u001b[39m\u001b[38;5;124m\"\u001b[39m]\u001b[38;5;241m.\u001b[39mget(\u001b[38;5;124m\"\u001b[39m\u001b[38;5;124mtext\u001b[39m\u001b[38;5;124m\"\u001b[39m)\n\u001b[0;32m    228\u001b[0m     \u001b[38;5;28;01mraise\u001b[39;00m exception_class(message, screen, stacktrace, alert_text)  \u001b[38;5;66;03m# type: ignore[call-arg]  # mypy is not smart enough here\u001b[39;00m\n\u001b[1;32m--> 229\u001b[0m \u001b[38;5;28;01mraise\u001b[39;00m exception_class(message, screen, stacktrace)\n",
      "\u001b[1;31mElementClickInterceptedException\u001b[0m: Message: Element <button class=\"widget-actions-item export\"> is not clickable at point (1127,671) because another element <a class=\"cookieBarButton cookieBarMoreButton\" href=\"https://policies.google.com/technologies/cookies?hl=de\"> obscures it\nStacktrace:\nRemoteError@chrome://remote/content/shared/RemoteError.sys.mjs:8:8\nWebDriverError@chrome://remote/content/shared/webdriver/Errors.sys.mjs:193:5\nElementClickInterceptedError@chrome://remote/content/shared/webdriver/Errors.sys.mjs:337:5\nwebdriverClickElement@chrome://remote/content/marionette/interaction.sys.mjs:177:11\ninteraction.clickElement@chrome://remote/content/marionette/interaction.sys.mjs:136:11\nclickElement@chrome://remote/content/marionette/actors/MarionetteCommandsChild.sys.mjs:205:29\nreceiveMessage@chrome://remote/content/marionette/actors/MarionetteCommandsChild.sys.mjs:85:31\n"
     ]
    }
   ],
   "source": [
    "conferences_popularity :dict[str, tuple[Conference, int]]= dict()\n",
    "for conference in conferences:\n",
    "    total_searches = get_number_of_searches(conference.name)\n",
    "    conferences_popularity[conference.name] = (conference, total_searches)\n",
    "    \n",
    "conferences_sorted_by_searches = sorted(conferences_popularity.values(), key=lambda x: x[1], reverse=True)\n",
    "for conference, searches in conferences_sorted_by_searches:\n",
    "    print(f\"Conference: {conference.name}, Location: {conference.location}, Date: {conference.date}, Searches: {searches}\")"
   ]
  },
  {
   "cell_type": "markdown",
   "metadata": {},
   "source": [
    "### Conferences by Date"
   ]
  },
  {
   "cell_type": "code",
   "execution_count": null,
   "metadata": {},
   "outputs": [],
   "source": [
    "# TODO got through all conferences and ask llm to convert all dates to one format"
   ]
  },
  {
   "cell_type": "code",
   "execution_count": 19,
   "metadata": {},
   "outputs": [
    {
     "name": "stdout",
     "output_type": "stream",
     "text": [
      "Conference: International Conference on Artificial Intelligence and Machine Learning, Location: null, Date: 12/05/2025\n",
      "Conference: ICML 2025, Location: Sydney, Australia, Date: 07/11/2025\n"
     ]
    }
   ],
   "source": [
    "def parse_date(date_str):\n",
    "    try:\n",
    "        return datetime.strptime(date_str, \"%d/%m/%Y\") if date_str else None\n",
    "    except ValueError:\n",
    "        return None\n",
    "\n",
    "valid_conferences = [\n",
    "    conference for conference in conferences if parse_date(conference.date) is not None\n",
    "]\n",
    "conferences_sorted_by_date = sorted(valid_conferences, key=lambda conf: parse_date(conf.date))\n",
    "for conference in conferences_sorted_by_date:\n",
    "    print(f\"Conference: {conference.name}, Location: {conference.location}, Date: {conference.date}\")"
   ]
  },
  {
   "cell_type": "code",
   "execution_count": 26,
   "metadata": {},
   "outputs": [],
   "source": [
    "driver.quit()\n",
    "llm.close()"
   ]
  }
 ],
 "metadata": {
  "kernelspec": {
   "display_name": ".venv",
   "language": "python",
   "name": "python3"
  },
  "language_info": {
   "codemirror_mode": {
    "name": "ipython",
    "version": 3
   },
   "file_extension": ".py",
   "mimetype": "text/x-python",
   "name": "python",
   "nbconvert_exporter": "python",
   "pygments_lexer": "ipython3",
   "version": "3.12.7"
  }
 },
 "nbformat": 4,
 "nbformat_minor": 2
}
