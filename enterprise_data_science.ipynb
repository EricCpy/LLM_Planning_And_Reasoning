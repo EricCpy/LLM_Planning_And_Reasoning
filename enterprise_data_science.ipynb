{
 "cells": [
  {
   "cell_type": "code",
   "execution_count": 1,
   "metadata": {},
   "outputs": [],
   "source": [
    "from huggingface_hub import hf_hub_download\n",
    "from llama_cpp import Llama\n",
    "from pydantic import BaseModel, Field\n",
    "from typing import Optional\n",
    "from lmformatenforcer import JsonSchemaParser\n",
    "import os\n",
    "from selenium import webdriver\n",
    "from selenium.webdriver.common.by import By\n",
    "from selenium.common.exceptions import NoSuchElementException\n",
    "import time\n",
    "import pandas as pd\n",
    "from datetime import datetime\n",
    "from helper import *"
   ]
  },
  {
   "cell_type": "code",
   "execution_count": 2,
   "metadata": {},
   "outputs": [],
   "source": [
    "class Conference(BaseModel):\n",
    "    name: str = Field(description=\"Name of the conference\")\n",
    "    location: Optional[str] = Field(description=\"Location of the conference\")\n",
    "    date: Optional[str] = Field(description=\"Date of the location in the following format DD/MM/YYYY\")\n",
    "\n",
    "class Conferences(BaseModel):\n",
    "    conferences: list[Conference] = Field(description=\"List of Conferences\")\n",
    "\n",
    "def ask_llm_for_conferences(llm: Llama, markdown_texts: list[str]) -> list[Conference]:\n",
    "    conferences = dict()\n",
    "    for idx, text in enumerate(markdown_texts):\n",
    "        print(f\"Working on {idx + 1}/{len(markdown_texts)}:\")\n",
    "        prompt = f\"\"\"You are an AI assistant. Based on the scraped search result below, extract and provide the top academic AI conferences in 2025 in the format of a JSON list.\n",
    "                    Scraped Content:\n",
    "                    {text[:llm.n_ctx() - 1000]}\n",
    "                    You MUST answer using the following json schema: {Conferences.model_json_schema()}\"\"\"\n",
    "        try:\n",
    "            output = llamacpp_with_character_level_parser(llm, prompt, JsonSchemaParser(Conferences.model_json_schema()))\n",
    "            output_conferences = Conferences.model_validate_json(output.replace(\"\\r\\n\", \"\\n\"))\n",
    "            for new_conference in output_conferences.conferences:\n",
    "                if new_conference.name in conferences:\n",
    "                    existing_conference = conferences[new_conference.name]\n",
    "                    # Replace None values in existing_conference with values from new_conference\n",
    "                    for field, value in new_conference.model_dump().items():\n",
    "                        if getattr(existing_conference, field) is None and value is not None:\n",
    "                            setattr(existing_conference, field, value)\n",
    "                else:\n",
    "                    conferences[new_conference.name] = new_conference\n",
    "            print(\"Finished successful.\")\n",
    "        except Exception as e:\n",
    "            print(f\"Error parsing JSON: {e}\")\n",
    "    \n",
    "    return list(conferences.values())"
   ]
  },
  {
   "cell_type": "code",
   "execution_count": 3,
   "metadata": {},
   "outputs": [],
   "source": [
    "downloaded_model_path = hf_hub_download(repo_id=\"bartowski/Mistral-NeMo-Minitron-8B-Instruct-GGUF\", filename=\"Mistral-NeMo-Minitron-8B-Instruct-Q4_K_L.gguf\")\n",
    "llm = Llama(model_path=downloaded_model_path, n_ctx=16384, n_gpu_layers=-1, verbose=False)"
   ]
  },
  {
   "cell_type": "code",
   "execution_count": 4,
   "metadata": {},
   "outputs": [],
   "source": [
    "prompt = \"\"\"Generate five different Google search queries to find information on the top academic AI conferences in 2025.\n",
    "            These queries should be tailored to discover high-impact conferences covering fields like machine learning, natural language processing,\n",
    "            computer vision, and other areas within AI.\"\"\"\n",
    "queries = llm_generate_search_queries(llm, prompt)"
   ]
  },
  {
   "cell_type": "code",
   "execution_count": 5,
   "metadata": {},
   "outputs": [
    {
     "name": "stdout",
     "output_type": "stream",
     "text": [
      "Working on 1/10:\n",
      "Finished successful.\n",
      "Working on 2/10:\n",
      "Finished successful.\n",
      "Working on 3/10:\n",
      "Finished successful.\n",
      "Working on 4/10:\n",
      "Finished successful.\n",
      "Working on 5/10:\n",
      "Finished successful.\n",
      "Working on 6/10:\n",
      "Finished successful.\n",
      "Working on 7/10:\n",
      "Finished successful.\n",
      "Working on 8/10:\n",
      "Finished successful.\n",
      "Working on 9/10:\n",
      "Finished successful.\n",
      "Working on 10/10:\n",
      "Finished successful.\n"
     ]
    },
    {
     "data": {
      "text/plain": [
       "[Conference(name='Clean Architecture Masterclass', location='Online', date='2024-11-28'),\n",
       " Conference(name='Clean Code: The Next Level', location='Online', date='2024-12-05'),\n",
       " Conference(name='The Principal Dev – Masterclass for Tech Leads', location='Online', date='2024-12-15'),\n",
       " Conference(name='Modern Software Development with TDD', location='Online', date='2024-12-16'),\n",
       " Conference(name='CDAO Nordics', location='Stockholm', date='2024-11-13'),\n",
       " Conference(name='GDG Bucharest DevFest 2024', location='Bucharest', date='2024-11-13'),\n",
       " Conference(name='Commvault SHIFT Zurich 2024', location='Zurich', date='2024-11-13'),\n",
       " Conference(name='empowerHER+ Conference', location='Potsdam', date='2024-11-14'),\n",
       " Conference(name='AI [in Prod] London by Weavite', location='London', date='2024-11-18'),\n",
       " Conference(name='Machine Learning Week Europe', location='Munich', date='2024-11-18'),\n",
       " Conference(name='DSC Europe 24', location='Belgrade', date='2024-11-18'),\n",
       " Conference(name='Big Data Conference 2024', location='Vilnius', date='2024-11-19'),\n",
       " Conference(name='Upscale conf', location='Malaga', date='2024-11-19'),\n",
       " Conference(name='Open Conf 2024', location='Athens', date='2024-11-22'),\n",
       " Conference(name='Hackvens', location='Lille', date='2024-11-22'),\n",
       " Conference(name='Conference on AI, Soft Computing and Applications', location='London', date='2024-11-23'),\n",
       " Conference(name='MLCon Berlin', location='Berlin', date='2024-11-25'),\n",
       " Conference(name='ML and AI Model Development and Governance', location='Amsterdam', date='2024-11-27'),\n",
       " Conference(name='Generation AI', location='Paris', date='2024-12-03'),\n",
       " Conference(name='GitOps, DevOps, Platform Engineering, and Innovations', location='London', date='2024-12-03'),\n",
       " Conference(name='The AI Summit', location='New York', date='11/12/2025'),\n",
       " Conference(name='AUTONOMOUS', location='Online', date='29/01/2025'),\n",
       " Conference(name='Global AI Show', location='Online', date='11/12/2024'),\n",
       " Conference(name='ICCV 2025', location='Paris, France', date='21/10/2025'),\n",
       " Conference(name='CVPR 2025', location='Nashville, TN', date='10/11/2025'),\n",
       " Conference(name='TREC 2024', location='United States', date='18 Nov 2024 - 22 Nov 2024'),\n",
       " Conference(name='Dagstuhl Research Meeting', location='Germany', date='24 Nov 2024 - 27 Nov 2024'),\n",
       " Conference(name='NLPIR 2024', location='Japan', date='13 Dec 2024 - 15 Dec 2024'),\n",
       " Conference(name='Dagstuhl-Seminar', location='Germany', date='06 Jan 2025 - 09 Jan 2025'),\n",
       " Conference(name='ICNLP 2025', location='China', date='21 Mar 2025 - 23 Mar 2025'),\n",
       " Conference(name='Japan Robot Week', location='Tokyo, Japan', date='11-27/09/2024'),\n",
       " Conference(name='International Robot Safety Conference', location='Cincinnati, Ohio, USA', date='01-03/10/2024'),\n",
       " Conference(name='Engineering Design Show', location='Coventry, UK', date='09-10/10/2024'),\n",
       " Conference(name='RobotWorld', location='Seoul, South Korea', date='23-26/10/2024'),\n",
       " Conference(name='Humanoids 2024', location='Nancy, France', date='22-24/11/2024'),\n",
       " Conference(name='International Conference on Healthcare Robotics', location='Bristol, UK', date='17-18/12/2024'),\n",
       " Conference(name='International Conference on Mechanical, Robotics and Aerospace Engineering', location='Manchester, UK', date='16-17/01/2025'),\n",
       " Conference(name='European Robotics Forum', location='Stuttgart, Germany', date='25-27/03/2025'),\n",
       " Conference(name='Robotics and Automation', location='Birmingham, UK', date='25-26/03/2025'),\n",
       " Conference(name='Automate', location='Detroit, Michigan, USA', date='12-15/05/2025'),\n",
       " Conference(name='International Conference on Robotics and Automation', location='Atlanta, Georgia, USA', date='19-23/05/2025'),\n",
       " Conference(name='CVPR', location='Music City Center, Nashville TN', date='Wed June 11th – Sun June 15th, 2025'),\n",
       " Conference(name='AISTATS', location='Phuket, Thailand', date='03/05/2025'),\n",
       " Conference(name='NAACL', location='Albuquerque, New Mexico, USA', date='29/04/2024'),\n",
       " Conference(name='ICLR', location='Singapore', date='24/04/2025'),\n",
       " Conference(name='LoG', location='Virtual, free to attend', date='26/11/2024'),\n",
       " Conference(name='ECIR', location='Lucca, Tuscany, Italy', date='06/04/2025'),\n",
       " Conference(name='WACV', location='Tucson, Arizona', date='28/03/2025'),\n",
       " Conference(name='AAMAS', location='Detroit, Michigan, USA', date='19/05/2025'),\n",
       " Conference(name='CHI', location='Yokohama, Japan', date='26/04/2025'),\n",
       " Conference(name='COLING', location='Abu Dhabi, UAE', date='19/01/2025'),\n",
       " Conference(name='WSDM', location='Hannover, Germany', date='10/03/2025'),\n",
       " Conference(name='Iberamia', location='Montevideo, Uruguay', date='13/11/2024'),\n",
       " Conference(name='NeurIPS [Dataset and Benchmarks Track]', location='Vancouver, Canada', date='09/12/2024'),\n",
       " Conference(name='ICRA', location='Atlanta, USA', date='19/05/2025'),\n",
       " Conference(name='AAAI', location='Philadelphia, USA', date='25/02/2025'),\n",
       " Conference(name='BMVC', location='Glasgow, UK', date='25/11/2024'),\n",
       " Conference(name='ICASSP', location='Hyderabad, India', date='06/04/2025'),\n",
       " Conference(name='KIL', location='Barcelona, Spain', date='25/08/2024'),\n",
       " Conference(name='ISMIR', location='San Francisco, California, USA', date='10/11/2024'),\n",
       " Conference(name='CLNLP 2025', location='Suzhou, China', date='2025-07-18'),\n",
       " Conference(name='ICML', location='Sydney, Australia', date='06/07/2025'),\n",
       " Conference(name='NeurIPS', location='Vancouver, Canada', date='08/12/2025')]"
      ]
     },
     "execution_count": 5,
     "metadata": {},
     "output_type": "execute_result"
    }
   ],
   "source": [
    "urls = list({url['url'] for query in queries for url in get_top_urls_for_google_search_query(query)})\n",
    "markdowns = scrape_and_convert_to_markdown(urls[:10])\n",
    "conferences : list[Conference] = ask_llm_for_conferences(llm, markdowns)\n",
    "conferences"
   ]
  },
  {
   "cell_type": "code",
   "execution_count": 6,
   "metadata": {},
   "outputs": [],
   "source": [
    "# Write conferences to file\n",
    "output_path = os.path.join(os.getcwd(), \"conferences\")\n",
    "os.makedirs(output_path, exist_ok=True)\n",
    "with open(os.path.join(output_path, f\"conferences_{llm.metadata['general.name'].replace(' ', '_')}.json\"), 'w', encoding='utf-8') as f:\n",
    "    f.write(Conferences(conferences=conferences).model_dump_json(indent=4))"
   ]
  },
  {
   "cell_type": "markdown",
   "metadata": {},
   "source": [
    "## Sort Conferences"
   ]
  },
  {
   "cell_type": "code",
   "execution_count": 72,
   "metadata": {},
   "outputs": [],
   "source": [
    "file_path = \"conferences/conferences_Llama_3.2_3B_Instruct.json\"\n",
    "with open(file_path, \"r\") as file:\n",
    "    data = file.read()\n",
    "\n",
    "conferences = Conferences.model_validate_json(data).conferences"
   ]
  },
  {
   "cell_type": "code",
   "execution_count": 87,
   "metadata": {},
   "outputs": [],
   "source": [
    "download_path = os.path.join(os.getcwd(), \"downloads\")\n",
    "os.makedirs(download_path, exist_ok=True)\n",
    "\n",
    "options = webdriver.FirefoxOptions()\n",
    "options.set_preference(\"browser.download.folderList\", 2)  # custom location\n",
    "options.set_preference(\"browser.download.dir\", download_path)\n",
    "options.set_preference(\"browser.helperApps.neverAsk.saveToDisk\", \"text/csv\")\n",
    "options.set_preference(\"browser.download.manager.showWhenStarting\", False)\n",
    "\n",
    "driver = webdriver.Firefox(options=options)\n",
    "driver.implicitly_wait(5)\n",
    "\n",
    "def get_number_of_searches(query: str):\n",
    "    url = f\"https://trends.google.com/trends/explore?date=today%201-m&q={query.replace(' ', '%20')}\"\n",
    "    driver.get(url)\n",
    "    download_button = None\n",
    "    for i in range(5):\n",
    "        try:\n",
    "            download_button = driver.find_element(By.XPATH, \"//button[@class='widget-actions-item export' and @title='CSV']\")\n",
    "            break\n",
    "        except NoSuchElementException:\n",
    "            time.sleep(3)\n",
    "            driver.get(url)\n",
    "            \n",
    "    if download_button:\n",
    "        try:\n",
    "            download_button.click()\n",
    "        except:\n",
    "            print(\"Button click failed!\")\n",
    "            return 0    \n",
    "    else:\n",
    "        print(\"Download button not found after multiple attempts.\")\n",
    "        return 0 \n",
    "\n",
    "    csv_file_path = os.path.join(download_path, 'multiTimeline.csv')\n",
    "    timeout = 5\n",
    "    start_time = time.time()\n",
    "    while not os.path.exists(csv_file_path):\n",
    "        if time.time() - start_time > timeout:\n",
    "            print(\"CSV file download timed out.\")\n",
    "            return 0 \n",
    "        time.sleep(1)\n",
    "\n",
    "    df = pd.read_csv(csv_file_path, skiprows=2) # first two rows are header and not csv\n",
    "    total_searches = df.iloc[:, 1].sum()\n",
    "    os.remove(csv_file_path)\n",
    "    return total_searches"
   ]
  },
  {
   "cell_type": "markdown",
   "metadata": {},
   "source": [
    "### Conferences by Searches"
   ]
  },
  {
   "cell_type": "code",
   "execution_count": 88,
   "metadata": {},
   "outputs": [
    {
     "name": "stdout",
     "output_type": "stream",
     "text": [
      "Button click failed!\n",
      "Button click failed!\n"
     ]
    },
    {
     "ename": "WebDriverException",
     "evalue": "Message: TypeError: browsingContext.currentWindowGlobal is null\nStacktrace:\ngetMarionetteCommandsActorProxy/get/<@chrome://remote/content/marionette/actors/MarionetteCommandsParent.sys.mjs:357:17\nobserve@resource://gre/modules/AsyncShutdown.sys.mjs:569:17\n",
     "output_type": "error",
     "traceback": [
      "\u001b[1;31m---------------------------------------------------------------------------\u001b[0m",
      "\u001b[1;31mWebDriverException\u001b[0m                        Traceback (most recent call last)",
      "Cell \u001b[1;32mIn[88], line 4\u001b[0m\n\u001b[0;32m      2\u001b[0m \u001b[38;5;28;01mfor\u001b[39;00m conference \u001b[38;5;129;01min\u001b[39;00m conferences[:\u001b[38;5;241m30\u001b[39m]:\n\u001b[0;32m      3\u001b[0m     \u001b[38;5;28;01mif\u001b[39;00m \u001b[38;5;124m\"\u001b[39m\u001b[38;5;124m2025\u001b[39m\u001b[38;5;124m\"\u001b[39m \u001b[38;5;129;01min\u001b[39;00m conference\u001b[38;5;241m.\u001b[39mdate:\n\u001b[1;32m----> 4\u001b[0m         total_searches \u001b[38;5;241m=\u001b[39m \u001b[43mget_number_of_searches\u001b[49m\u001b[43m(\u001b[49m\u001b[43mconference\u001b[49m\u001b[38;5;241;43m.\u001b[39;49m\u001b[43mname\u001b[49m\u001b[43m)\u001b[49m\n\u001b[0;32m      5\u001b[0m         conferences_popularity[conference\u001b[38;5;241m.\u001b[39mname] \u001b[38;5;241m=\u001b[39m (conference, total_searches)\n\u001b[0;32m      7\u001b[0m conferences_sorted_by_searches \u001b[38;5;241m=\u001b[39m \u001b[38;5;28msorted\u001b[39m(conferences_popularity\u001b[38;5;241m.\u001b[39mvalues(), key\u001b[38;5;241m=\u001b[39m\u001b[38;5;28;01mlambda\u001b[39;00m x: x[\u001b[38;5;241m1\u001b[39m], reverse\u001b[38;5;241m=\u001b[39m\u001b[38;5;28;01mTrue\u001b[39;00m)\n",
      "Cell \u001b[1;32mIn[87], line 19\u001b[0m, in \u001b[0;36mget_number_of_searches\u001b[1;34m(query)\u001b[0m\n\u001b[0;32m     17\u001b[0m \u001b[38;5;28;01mfor\u001b[39;00m i \u001b[38;5;129;01min\u001b[39;00m \u001b[38;5;28mrange\u001b[39m(\u001b[38;5;241m5\u001b[39m):\n\u001b[0;32m     18\u001b[0m     \u001b[38;5;28;01mtry\u001b[39;00m:\n\u001b[1;32m---> 19\u001b[0m         download_button \u001b[38;5;241m=\u001b[39m \u001b[43mdriver\u001b[49m\u001b[38;5;241;43m.\u001b[39;49m\u001b[43mfind_element\u001b[49m\u001b[43m(\u001b[49m\u001b[43mBy\u001b[49m\u001b[38;5;241;43m.\u001b[39;49m\u001b[43mXPATH\u001b[49m\u001b[43m,\u001b[49m\u001b[43m \u001b[49m\u001b[38;5;124;43m\"\u001b[39;49m\u001b[38;5;124;43m//button[@class=\u001b[39;49m\u001b[38;5;124;43m'\u001b[39;49m\u001b[38;5;124;43mwidget-actions-item export\u001b[39;49m\u001b[38;5;124;43m'\u001b[39;49m\u001b[38;5;124;43m and @title=\u001b[39;49m\u001b[38;5;124;43m'\u001b[39;49m\u001b[38;5;124;43mCSV\u001b[39;49m\u001b[38;5;124;43m'\u001b[39;49m\u001b[38;5;124;43m]\u001b[39;49m\u001b[38;5;124;43m\"\u001b[39;49m\u001b[43m)\u001b[49m\n\u001b[0;32m     20\u001b[0m         \u001b[38;5;28;01mbreak\u001b[39;00m\n\u001b[0;32m     21\u001b[0m     \u001b[38;5;28;01mexcept\u001b[39;00m NoSuchElementException:\n",
      "File \u001b[1;32md:\\Zeug\\Unizeug\\Master_DataScience\\3.Semester\\Urban Technologies\\Project\\.venv\\Lib\\site-packages\\selenium\\webdriver\\remote\\webdriver.py:766\u001b[0m, in \u001b[0;36mWebDriver.find_element\u001b[1;34m(self, by, value)\u001b[0m\n\u001b[0;32m    763\u001b[0m         \u001b[38;5;28;01mraise\u001b[39;00m NoSuchElementException(\u001b[38;5;124mf\u001b[39m\u001b[38;5;124m\"\u001b[39m\u001b[38;5;124mCannot locate relative element with: \u001b[39m\u001b[38;5;132;01m{\u001b[39;00mby\u001b[38;5;241m.\u001b[39mroot\u001b[38;5;132;01m}\u001b[39;00m\u001b[38;5;124m\"\u001b[39m)\n\u001b[0;32m    764\u001b[0m     \u001b[38;5;28;01mreturn\u001b[39;00m elements[\u001b[38;5;241m0\u001b[39m]\n\u001b[1;32m--> 766\u001b[0m \u001b[38;5;28;01mreturn\u001b[39;00m \u001b[38;5;28;43mself\u001b[39;49m\u001b[38;5;241;43m.\u001b[39;49m\u001b[43mexecute\u001b[49m\u001b[43m(\u001b[49m\u001b[43mCommand\u001b[49m\u001b[38;5;241;43m.\u001b[39;49m\u001b[43mFIND_ELEMENT\u001b[49m\u001b[43m,\u001b[49m\u001b[43m \u001b[49m\u001b[43m{\u001b[49m\u001b[38;5;124;43m\"\u001b[39;49m\u001b[38;5;124;43musing\u001b[39;49m\u001b[38;5;124;43m\"\u001b[39;49m\u001b[43m:\u001b[49m\u001b[43m \u001b[49m\u001b[43mby\u001b[49m\u001b[43m,\u001b[49m\u001b[43m \u001b[49m\u001b[38;5;124;43m\"\u001b[39;49m\u001b[38;5;124;43mvalue\u001b[39;49m\u001b[38;5;124;43m\"\u001b[39;49m\u001b[43m:\u001b[49m\u001b[43m \u001b[49m\u001b[43mvalue\u001b[49m\u001b[43m}\u001b[49m\u001b[43m)\u001b[49m[\u001b[38;5;124m\"\u001b[39m\u001b[38;5;124mvalue\u001b[39m\u001b[38;5;124m\"\u001b[39m]\n",
      "File \u001b[1;32md:\\Zeug\\Unizeug\\Master_DataScience\\3.Semester\\Urban Technologies\\Project\\.venv\\Lib\\site-packages\\selenium\\webdriver\\remote\\webdriver.py:380\u001b[0m, in \u001b[0;36mWebDriver.execute\u001b[1;34m(self, driver_command, params)\u001b[0m\n\u001b[0;32m    378\u001b[0m response \u001b[38;5;241m=\u001b[39m \u001b[38;5;28mself\u001b[39m\u001b[38;5;241m.\u001b[39mcommand_executor\u001b[38;5;241m.\u001b[39mexecute(driver_command, params)\n\u001b[0;32m    379\u001b[0m \u001b[38;5;28;01mif\u001b[39;00m response:\n\u001b[1;32m--> 380\u001b[0m     \u001b[38;5;28;43mself\u001b[39;49m\u001b[38;5;241;43m.\u001b[39;49m\u001b[43merror_handler\u001b[49m\u001b[38;5;241;43m.\u001b[39;49m\u001b[43mcheck_response\u001b[49m\u001b[43m(\u001b[49m\u001b[43mresponse\u001b[49m\u001b[43m)\u001b[49m\n\u001b[0;32m    381\u001b[0m     response[\u001b[38;5;124m\"\u001b[39m\u001b[38;5;124mvalue\u001b[39m\u001b[38;5;124m\"\u001b[39m] \u001b[38;5;241m=\u001b[39m \u001b[38;5;28mself\u001b[39m\u001b[38;5;241m.\u001b[39m_unwrap_value(response\u001b[38;5;241m.\u001b[39mget(\u001b[38;5;124m\"\u001b[39m\u001b[38;5;124mvalue\u001b[39m\u001b[38;5;124m\"\u001b[39m, \u001b[38;5;28;01mNone\u001b[39;00m))\n\u001b[0;32m    382\u001b[0m     \u001b[38;5;28;01mreturn\u001b[39;00m response\n",
      "File \u001b[1;32md:\\Zeug\\Unizeug\\Master_DataScience\\3.Semester\\Urban Technologies\\Project\\.venv\\Lib\\site-packages\\selenium\\webdriver\\remote\\errorhandler.py:229\u001b[0m, in \u001b[0;36mErrorHandler.check_response\u001b[1;34m(self, response)\u001b[0m\n\u001b[0;32m    227\u001b[0m         alert_text \u001b[38;5;241m=\u001b[39m value[\u001b[38;5;124m\"\u001b[39m\u001b[38;5;124malert\u001b[39m\u001b[38;5;124m\"\u001b[39m]\u001b[38;5;241m.\u001b[39mget(\u001b[38;5;124m\"\u001b[39m\u001b[38;5;124mtext\u001b[39m\u001b[38;5;124m\"\u001b[39m)\n\u001b[0;32m    228\u001b[0m     \u001b[38;5;28;01mraise\u001b[39;00m exception_class(message, screen, stacktrace, alert_text)  \u001b[38;5;66;03m# type: ignore[call-arg]  # mypy is not smart enough here\u001b[39;00m\n\u001b[1;32m--> 229\u001b[0m \u001b[38;5;28;01mraise\u001b[39;00m exception_class(message, screen, stacktrace)\n",
      "\u001b[1;31mWebDriverException\u001b[0m: Message: TypeError: browsingContext.currentWindowGlobal is null\nStacktrace:\ngetMarionetteCommandsActorProxy/get/<@chrome://remote/content/marionette/actors/MarionetteCommandsParent.sys.mjs:357:17\nobserve@resource://gre/modules/AsyncShutdown.sys.mjs:569:17\n"
     ]
    }
   ],
   "source": [
    "conferences_popularity :dict[str, tuple[Conference, int]]= dict()\n",
    "for conference in conferences[:30]:\n",
    "    if \"2025\" in conference.date:\n",
    "        total_searches = get_number_of_searches(conference.name)\n",
    "        conferences_popularity[conference.name] = (conference, total_searches)\n",
    "    \n",
    "conferences_sorted_by_searches = sorted(conferences_popularity.values(), key=lambda x: x[1], reverse=True)\n",
    "for conference, searches in conferences_sorted_by_searches:\n",
    "    print(f\"Conference: {conference.name}, Location: {conference.location}, Date: {conference.date}, Searches: {searches}\")"
   ]
  },
  {
   "cell_type": "markdown",
   "metadata": {},
   "source": [
    "### Conferences by Date"
   ]
  },
  {
   "cell_type": "code",
   "execution_count": 73,
   "metadata": {},
   "outputs": [
    {
     "name": "stdout",
     "output_type": "stream",
     "text": [
      "Conference: IJCAI, Location: San Diego, Date: 23/07/2024\n",
      "Conference: ISCA, Location: None, Date: 23/07/2024\n",
      "Conference: ICLR, Location: San Francisco, Date: 20/11/2024\n",
      "Conference: COCOA, Location: San Diego, Date: 08/12/2024\n",
      "Conference: Conference on Neural Information Processing Systems, Location: New York, Date: 11/12/2024\n",
      "Conference: NIPS, Location: San Diego, Date: 15/12/2024\n",
      "Conference: ICML, Location: New York, Date: 17/12/2024\n",
      "Conference: Rise of AI Conference 2025, Location: Berlin, Germany, Date: 14/05/2025\n",
      "Conference: ICML 2025, Location: Sydney, Australia, Date: 07/11/2025\n"
     ]
    }
   ],
   "source": [
    "def parse_date(date_str):\n",
    "    try:\n",
    "        return datetime.strptime(date_str, \"%d/%m/%Y\") if date_str else None\n",
    "    except ValueError:\n",
    "        return None\n",
    "\n",
    "valid_conferences = [\n",
    "    conference for conference in conferences if parse_date(conference.date) is not None\n",
    "]\n",
    "conferences_sorted_by_date = sorted(valid_conferences, key=lambda conf: parse_date(conf.date))\n",
    "for conference in conferences_sorted_by_date:\n",
    "    print(f\"Conference: {conference.name}, Location: {conference.location}, Date: {conference.date}\")"
   ]
  },
  {
   "cell_type": "code",
   "execution_count": 85,
   "metadata": {},
   "outputs": [],
   "source": [
    "driver.quit()\n",
    "llm.close()"
   ]
  }
 ],
 "metadata": {
  "kernelspec": {
   "display_name": ".venv",
   "language": "python",
   "name": "python3"
  },
  "language_info": {
   "codemirror_mode": {
    "name": "ipython",
    "version": 3
   },
   "file_extension": ".py",
   "mimetype": "text/x-python",
   "name": "python",
   "nbconvert_exporter": "python",
   "pygments_lexer": "ipython3",
   "version": "3.12.6"
  }
 },
 "nbformat": 4,
 "nbformat_minor": 2
}
